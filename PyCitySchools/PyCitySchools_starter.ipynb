{
 "cells": [
  {
   "cell_type": "markdown",
   "metadata": {},
   "source": [
    "### Note\n",
    "* Instructions have been included for each segment. You do not have to follow them exactly, but they are included to help you think through the steps."
   ]
  },
  {
   "cell_type": "code",
   "execution_count": 12,
   "metadata": {},
   "outputs": [],
   "source": [
    "# Dependencies and Setup\n",
    "import pandas as pd\n",
    "\n",
    "# File to Load (Remember to Change These)\n",
    "school_data_to_load = r\"c:\\Users\\mc66440\\Desktop\\PANDAS-Challenge\\Resources\\schools_complete.csv\"\n",
    "student_data_to_load = r\"c:\\Users\\mc66440\\Desktop\\PANDAS-Challenge\\Resources\\students_complete.csv\"\n",
    "\n",
    "# Read School and Student Data File and store into Pandas DataFrames\n",
    "school_data = pd.read_csv(school_data_to_load)\n",
    "student_data = pd.read_csv(student_data_to_load)\n",
    "\n",
    "# Combine the data into a single dataset.  \n",
    "school_data_complete = pd.merge(student_data, school_data, how=\"left\", on=[\"school_name\", \"school_name\"])"
   ]
  },
  {
   "cell_type": "markdown",
   "metadata": {},
   "source": [
    "## Local Government Area Summary\n",
    "\n",
    "* Calculate the total number of schools\n",
    "\n",
    "* Calculate the total number of students\n",
    "\n",
    "* Calculate the total budget\n",
    "\n",
    "* Calculate the average maths score \n",
    "\n",
    "* Calculate the average reading score\n",
    "\n",
    "* Calculate the percentage of students with a passing maths score (50 or greater)\n",
    "\n",
    "* Calculate the percentage of students with a passing reading score (50 or greater)\n",
    "\n",
    "* Calculate the percentage of students who passed maths **and** reading (% Overall Passing)\n",
    "\n",
    "* Create a dataframe to hold the above results\n",
    "\n",
    "* Optional: give the displayed data cleaner formatting"
   ]
  },
  {
   "cell_type": "code",
   "execution_count": 13,
   "metadata": {},
   "outputs": [],
   "source": [
    "# Calculate the total number of schools\n",
    "\n",
    "total_school_number = len(school_data_complete[\"school_name\"].unique())"
   ]
  },
  {
   "cell_type": "code",
   "execution_count": 16,
   "metadata": {},
   "outputs": [
    {
     "name": "stdout",
     "output_type": "stream",
     "text": [
      "15\n"
     ]
    }
   ],
   "source": [
    "print (total_school_number)\n"
   ]
  },
  {
   "cell_type": "code",
   "execution_count": 17,
   "metadata": {},
   "outputs": [],
   "source": [
    "# Calculate the total number of students\n",
    "\n",
    "total_student_number = school_data_complete[\"school_name\"].count()"
   ]
  },
  {
   "cell_type": "code",
   "execution_count": 18,
   "metadata": {},
   "outputs": [
    {
     "name": "stdout",
     "output_type": "stream",
     "text": [
      "39170\n"
     ]
    }
   ],
   "source": [
    "print (total_student_number)\n"
   ]
  },
  {
   "cell_type": "code",
   "execution_count": 19,
   "metadata": {},
   "outputs": [],
   "source": [
    "# Calculate the total budget\n",
    "\n",
    "total_budget = school_data[\"budget\"].sum()\n"
   ]
  },
  {
   "cell_type": "code",
   "execution_count": 20,
   "metadata": {},
   "outputs": [
    {
     "name": "stdout",
     "output_type": "stream",
     "text": [
      "24649428\n"
     ]
    }
   ],
   "source": [
    "print (total_budget)\n"
   ]
  },
  {
   "cell_type": "code",
   "execution_count": 21,
   "metadata": {},
   "outputs": [],
   "source": [
    "# Calculate the average maths score \n",
    "\n",
    "total_avg_maths_score = school_data_complete[\"maths_score\"].mean()"
   ]
  },
  {
   "cell_type": "code",
   "execution_count": 22,
   "metadata": {},
   "outputs": [
    {
     "name": "stdout",
     "output_type": "stream",
     "text": [
      "70.33819249425581\n"
     ]
    }
   ],
   "source": [
    "print (total_avg_maths_score)\n"
   ]
  },
  {
   "cell_type": "code",
   "execution_count": 23,
   "metadata": {},
   "outputs": [],
   "source": [
    "# Calculate the average reading score\n",
    "\n",
    "total_avg_reading_score = school_data_complete[\"reading_score\"].mean()"
   ]
  },
  {
   "cell_type": "code",
   "execution_count": 24,
   "metadata": {},
   "outputs": [
    {
     "name": "stdout",
     "output_type": "stream",
     "text": [
      "69.98013786060761\n"
     ]
    }
   ],
   "source": [
    "print (total_avg_reading_score)\n"
   ]
  },
  {
   "cell_type": "code",
   "execution_count": 25,
   "metadata": {},
   "outputs": [],
   "source": [
    "# Calculate the percentage of students with a passing maths score (50 or greater)\n",
    "\n",
    "total_students_math_pass = len(school_data_complete.loc [school_data_complete[\"maths_score\"]>=50, :])\n",
    "\n",
    "total_per_math_pass = total_students_math_pass/total_student_number"
   ]
  },
  {
   "cell_type": "code",
   "execution_count": 26,
   "metadata": {},
   "outputs": [
    {
     "name": "stdout",
     "output_type": "stream",
     "text": [
      "33717\n"
     ]
    }
   ],
   "source": [
    "print (total_students_math_pass)\n"
   ]
  },
  {
   "cell_type": "code",
   "execution_count": 27,
   "metadata": {},
   "outputs": [],
   "source": [
    "# Calculate the percentage of students with a passing reading score (50 or greater)\n",
    "\n",
    "total_students_read_pass = len(school_data_complete.loc [school_data_complete[\"reading_score\"]>=50, :])\n",
    "\n",
    "total_per_read_pass = total_students_read_pass/total_student_number"
   ]
  },
  {
   "cell_type": "code",
   "execution_count": 28,
   "metadata": {},
   "outputs": [
    {
     "name": "stdout",
     "output_type": "stream",
     "text": [
      "33070\n"
     ]
    }
   ],
   "source": [
    "print (total_students_read_pass)\n"
   ]
  },
  {
   "cell_type": "code",
   "execution_count": 29,
   "metadata": {},
   "outputs": [],
   "source": [
    "# Calculate the percentage of students who passed maths **and** reading (% Overall Passing)\n",
    "\n",
    "total_st_pass_all = len(school_data_complete.loc [(school_data_complete[\"reading_score\"]>=50 ) & (school_data_complete[\"maths_score\"]>=50), :])\n",
    "\n",
    "total_per_pass_all =  total_st_pass_all / total_student_number\n"
   ]
  },
  {
   "cell_type": "code",
   "execution_count": 30,
   "metadata": {},
   "outputs": [
    {
     "name": "stdout",
     "output_type": "stream",
     "text": [
      "28519\n"
     ]
    }
   ],
   "source": [
    "print (total_st_pass_all)\n"
   ]
  },
  {
   "cell_type": "code",
   "execution_count": 31,
   "metadata": {},
   "outputs": [],
   "source": [
    "# Create a dataframe to hold the above results\n",
    "\n",
    "total_budget = float(total_budget)\n",
    "\n",
    "\n",
    "LGA_Dic = [{\n",
    "            \"Total Schools\" :   total_school_number, \n",
    "            \"Total Students\":   total_student_number,\n",
    "            \"Total Budget\"  :   total_budget,\n",
    "            \"Average Maths Score\":  total_avg_maths_score,\n",
    "            \"Average Reading Score\": total_avg_reading_score,\n",
    "            \"% Passing Maths\"   :   total_per_math_pass,\n",
    "            \"% Passing Reading\":    total_per_read_pass,\n",
    "            \"% Overall Passing\" :   total_per_pass_all                  \n",
    "            }]\n",
    "LGA_Dic\n",
    "\n",
    "\n",
    "LGA_DF = pd.DataFrame(LGA_Dic)"
   ]
  },
  {
   "cell_type": "code",
   "execution_count": 32,
   "metadata": {},
   "outputs": [
    {
     "data": {
      "text/html": [
       "<div>\n",
       "<style scoped>\n",
       "    .dataframe tbody tr th:only-of-type {\n",
       "        vertical-align: middle;\n",
       "    }\n",
       "\n",
       "    .dataframe tbody tr th {\n",
       "        vertical-align: top;\n",
       "    }\n",
       "\n",
       "    .dataframe thead th {\n",
       "        text-align: right;\n",
       "    }\n",
       "</style>\n",
       "<table border=\"1\" class=\"dataframe\">\n",
       "  <thead>\n",
       "    <tr style=\"text-align: right;\">\n",
       "      <th></th>\n",
       "      <th>Total Schools</th>\n",
       "      <th>Total Students</th>\n",
       "      <th>Total Budget</th>\n",
       "      <th>Average Maths Score</th>\n",
       "      <th>Average Reading Score</th>\n",
       "      <th>% Passing Maths</th>\n",
       "      <th>% Passing Reading</th>\n",
       "      <th>% Overall Passing</th>\n",
       "    </tr>\n",
       "  </thead>\n",
       "  <tbody>\n",
       "    <tr>\n",
       "      <th>0</th>\n",
       "      <td>15</td>\n",
       "      <td>39,170</td>\n",
       "      <td>$24,649,428.00</td>\n",
       "      <td>70.338192</td>\n",
       "      <td>69.980138</td>\n",
       "      <td>86.078632</td>\n",
       "      <td>84.426857</td>\n",
       "      <td>72.808272</td>\n",
       "    </tr>\n",
       "  </tbody>\n",
       "</table>\n",
       "</div>"
      ],
      "text/plain": [
       "   Total Schools Total Students    Total Budget  Average Maths Score  \\\n",
       "0             15         39,170  $24,649,428.00            70.338192   \n",
       "\n",
       "   Average Reading Score  % Passing Maths  % Passing Reading  \\\n",
       "0              69.980138        86.078632          84.426857   \n",
       "\n",
       "   % Overall Passing  \n",
       "0          72.808272  "
      ]
     },
     "execution_count": 32,
     "metadata": {},
     "output_type": "execute_result"
    }
   ],
   "source": [
    "# Format data as per challenge requirement\n",
    "\n",
    "LGA_DF[\"Total Students\"] = LGA_DF[\"Total Students\"].map(\"{:,}\".format)\n",
    "LGA_DF[\"Total Budget\"] = LGA_DF[\"Total Budget\"].map(\"${:,.2f}\".format)\n",
    "LGA_DF[\"% Passing Maths\"] = LGA_DF[\"% Passing Maths\"]*100\n",
    "LGA_DF[\"% Passing Reading\"] = LGA_DF[\"% Passing Reading\"]*100\n",
    "LGA_DF[\"% Overall Passing\"] = LGA_DF[\"% Overall Passing\"]*100\n",
    "\n",
    "LGA_DF"
   ]
  },
  {
   "cell_type": "markdown",
   "metadata": {},
   "source": [
    "## School Summary"
   ]
  },
  {
   "cell_type": "markdown",
   "metadata": {},
   "source": [
    "* Create an overview table that summarises key metrics about each school, including:\n",
    "  * School Name\n",
    "  * School Type\n",
    "  * Total Students\n",
    "  * Total School Budget\n",
    "  * Per Student Budget\n",
    "  * Average Maths Score\n",
    "  * Average Reading Score\n",
    "  * % Passing Maths\n",
    "  * % Passing Reading\n",
    "  * % Overall Passing (The percentage of students that passed maths **and** reading.)\n",
    "  \n",
    "* Create a dataframe to hold the above results"
   ]
  },
  {
   "cell_type": "code",
   "execution_count": 33,
   "metadata": {},
   "outputs": [],
   "source": [
    "# Creating a dataframe with the school infomation (school_data is the dataframe from one of the CSV files)\n",
    "\n",
    "school_sum = school_data\n",
    "\n",
    "# The Student Budget is the Budget per school divded by the total number of students (i.e budget/size)\n",
    "\n",
    "school_sum[\"Per Student Budget\"] = school_sum[\"budget\"]/school_sum[\"size\"]\n",
    "\n",
    "# Creating a dataframe with the school infomation (student_data is the dataframe from one of the CSV files)\n",
    "\n",
    "student_data_total = student_data"
   ]
  },
  {
   "cell_type": "code",
   "execution_count": 34,
   "metadata": {},
   "outputs": [
    {
     "name": "stdout",
     "output_type": "stream",
     "text": [
      "    School ID            school_name         type  size   budget  \\\n",
      "0           0      Huang High School   Government  2917  1910635   \n",
      "1           1   Figueroa High School   Government  2949  1884411   \n",
      "2           2    Shelton High School  Independent  1761  1056600   \n",
      "3           3  Hernandez High School   Government  4635  3022020   \n",
      "4           4    Griffin High School  Independent  1468   917500   \n",
      "5           5     Wilson High School  Independent  2283  1319574   \n",
      "6           6    Cabrera High School  Independent  1858  1081356   \n",
      "7           7     Bailey High School   Government  4976  3124928   \n",
      "8           8     Holden High School  Independent   427   248087   \n",
      "9           9       Pena High School  Independent   962   585858   \n",
      "10         10     Wright High School  Independent  1800  1049400   \n",
      "11         11  Rodriguez High School   Government  3999  2547363   \n",
      "12         12    Johnson High School   Government  4761  3094650   \n",
      "13         13       Ford High School   Government  2739  1763916   \n",
      "14         14     Thomas High School  Independent  1635  1043130   \n",
      "\n",
      "    Per Student Budget  \n",
      "0                655.0  \n",
      "1                639.0  \n",
      "2                600.0  \n",
      "3                652.0  \n",
      "4                625.0  \n",
      "5                578.0  \n",
      "6                582.0  \n",
      "7                628.0  \n",
      "8                581.0  \n",
      "9                609.0  \n",
      "10               583.0  \n",
      "11               637.0  \n",
      "12               650.0  \n",
      "13               644.0  \n",
      "14               638.0  \n"
     ]
    }
   ],
   "source": [
    "print (school_sum)\n"
   ]
  },
  {
   "cell_type": "code",
   "execution_count": 35,
   "metadata": {},
   "outputs": [
    {
     "name": "stdout",
     "output_type": "stream",
     "text": [
      "       Student ID     student_name gender  year         school_name  \\\n",
      "0               0     Paul Bradley      M     9   Huang High School   \n",
      "1               1     Victor Smith      M    12   Huang High School   \n",
      "2               2  Kevin Rodriguez      M    12   Huang High School   \n",
      "3               3    Richard Scott      M    12   Huang High School   \n",
      "4               4       Bonnie Ray      F     9   Huang High School   \n",
      "...           ...              ...    ...   ...                 ...   \n",
      "39165       39165     Donna Howard      F    12  Thomas High School   \n",
      "39166       39166        Dawn Bell      F    10  Thomas High School   \n",
      "39167       39167   Rebecca Tanner      F     9  Thomas High School   \n",
      "39168       39168     Desiree Kidd      F    10  Thomas High School   \n",
      "39169       39169  Carolyn Jackson      F    11  Thomas High School   \n",
      "\n",
      "       reading_score  maths_score  \n",
      "0                 96           94  \n",
      "1                 90           43  \n",
      "2                 41           76  \n",
      "3                 89           86  \n",
      "4                 87           69  \n",
      "...              ...          ...  \n",
      "39165             51           48  \n",
      "39166             81           89  \n",
      "39167             99           99  \n",
      "39168             72           77  \n",
      "39169             47           62  \n",
      "\n",
      "[39170 rows x 7 columns]\n"
     ]
    }
   ],
   "source": [
    "print (student_data_total)\n"
   ]
  },
  {
   "cell_type": "code",
   "execution_count": 36,
   "metadata": {},
   "outputs": [],
   "source": [
    "# 3 Columns created: \n",
    "#   Passed_math with a 1 if the score is greater or equal to 50 in Maths\n",
    "#   Passed_reading with a 1 if the score is greater or equal to 50 in Reading\n",
    "#   Passed_Overall with a 1 if the score is greater or equal to 50 in Maths and in Reading\n",
    "\n",
    "student_data_total[\"Passed_math\"] = [1 if score >= 50 else 0 for score in student_data[\"maths_score\"]]\n",
    "\n",
    "student_data_total[\"Passed_reading\"] = [1 if score >= 50 else 0 for score in student_data[\"reading_score\"]]\n",
    "\n",
    "student_data_total[\"Passed_Overall\"] = student_data_total[\"Passed_math\"] * student_data_total[\"Passed_reading\"] \n"
   ]
  },
  {
   "cell_type": "code",
   "execution_count": 38,
   "metadata": {},
   "outputs": [],
   "source": [
    "# st2 contains a dataframe with data grouped by school_name (and then by the mean of the grouped values)\n",
    "\n",
    "st2 = student_data_total.groupby(\"school_name\").mean()"
   ]
  },
  {
   "cell_type": "code",
   "execution_count": 39,
   "metadata": {},
   "outputs": [
    {
     "name": "stdout",
     "output_type": "stream",
     "text": [
      "                       Student ID       year  reading_score  maths_score  \\\n",
      "school_name                                                                \n",
      "Bailey High School        20358.5  10.371584      71.008842    72.352894   \n",
      "Cabrera High School       16941.5  10.386437      71.359526    71.657158   \n",
      "Figueroa High School       4391.0  10.371312      69.077993    68.698542   \n",
      "Ford High School          36165.0  10.330047      69.572472    69.091274   \n",
      "Griffin High School       12995.5  10.365123      71.245232    71.788147   \n",
      "Hernandez High School      9944.0  10.341316      69.186408    68.874865   \n",
      "Holden High School        23060.0  10.332553      71.660422    72.583138   \n",
      "Huang High School          1458.0  10.358930      68.910525    68.935207   \n",
      "Johnson High School       32415.0  10.350767      69.039277    68.843100   \n",
      "Pena High School          23754.5  10.356549      71.613306    72.088358   \n",
      "Rodriguez High School     28035.0  10.355089      70.935984    72.047762   \n",
      "Shelton High School        6746.0  10.354344      70.257808    72.034072   \n",
      "Thomas High School        38352.0  10.385321      69.768807    69.581651   \n",
      "Wilson High School        14871.0  10.377573      68.876916    69.170828   \n",
      "Wright High School        25135.5  10.368333      70.969444    72.047222   \n",
      "\n",
      "                       Passed_math  Passed_reading  Passed_Overall  \n",
      "school_name                                                         \n",
      "Bailey High School        0.916399        0.873794        0.800844  \n",
      "Cabrera High School       0.908504        0.890743        0.807858  \n",
      "Figueroa High School      0.816548        0.828077        0.676501  \n",
      "Ford High School          0.824388        0.822198        0.674699  \n",
      "Griffin High School       0.912125        0.884877        0.813351  \n",
      "Hernandez High School     0.809493        0.818770        0.663646  \n",
      "Holden High School        0.899297        0.885246        0.789227  \n",
      "Huang High School         0.816935        0.814535        0.667124  \n",
      "Johnson High School       0.820626        0.819786        0.671918  \n",
      "Pena High School          0.916840        0.865904        0.792100  \n",
      "Rodriguez High School     0.907977        0.873968        0.794199  \n",
      "Shelton High School       0.915389        0.867121        0.788756  \n",
      "Thomas High School        0.838532        0.826300        0.694801  \n",
      "Wilson High School        0.827858        0.812965        0.674551  \n",
      "Wright High School        0.917778        0.866667        0.797222  \n"
     ]
    }
   ],
   "source": [
    "print (st2)\n"
   ]
  },
  {
   "cell_type": "code",
   "execution_count": 40,
   "metadata": {},
   "outputs": [],
   "source": [
    "# merge_dfx2 is the Student Data merged with the school type, size, budget and budget per student information\n",
    "\n",
    "merge_dfx2 = pd.merge(st2,school_sum, on= \"school_name\")"
   ]
  },
  {
   "cell_type": "code",
   "execution_count": 41,
   "metadata": {},
   "outputs": [],
   "source": [
    "# School_Summary_df_pres contains only the relevant columns as below:\n",
    "\n",
    "School_Summary_df_pres = merge_dfx2 [[\"school_name\", \"type\", \"size\", \"budget\", \"Per Student Budget\", \"maths_score\", \"reading_score\" , \"Passed_math\", \"Passed_reading\", \"Passed_Overall\" ]]\n"
   ]
  },
  {
   "cell_type": "code",
   "execution_count": 43,
   "metadata": {},
   "outputs": [],
   "source": [
    "# School_Summary_df_pres column renaming to comply with the presentation requirements\n",
    "\n",
    "School_Summary_df_pres = School_Summary_df_pres.rename(columns={\"school_name\": \"School Name\",\"type\" : \"School Type\", \"size\" : \"Total Students\", \"budget\" : \"Total School Budget\", \"maths_score\" : \"Average Maths Score\", \"reading_score\": \"Average Reading Score\" , \"Passed_math\" : \"% Passing Maths\", \"Passed_reading\" : \"% Passing Reading\", \"Passed_Overall\": \"% Overall Passing\"})\n"
   ]
  },
  {
   "cell_type": "code",
   "execution_count": 44,
   "metadata": {},
   "outputs": [],
   "source": [
    "# School_Summary_df_pres mapping to comply with the presentation requirements\n",
    "\n",
    "\n",
    "School_Summary_df_pres[\"% Passing Maths\"] = School_Summary_df_pres[\"% Passing Maths\"]*100\n",
    "\n",
    "School_Summary_df_pres[\"% Passing Reading\"] = School_Summary_df_pres[\"% Passing Reading\"]*100\n",
    "\n",
    "School_Summary_df_pres[\"% Overall Passing\"] = School_Summary_df_pres[\"% Overall Passing\"]*100\n",
    "\n",
    "School_Summary_df_pres2 = School_Summary_df_pres.copy(deep=True)\n",
    "\n",
    "School_Summary_df_pres[\"Total School Budget\"] = School_Summary_df_pres[\"Total School Budget\"].map(\"${:,.2f}\".format)\n",
    "\n",
    "School_Summary_df_pres[\"Per Student Budget\"] = School_Summary_df_pres[\"Per Student Budget\"].map(\"${:,.2f}\".format)"
   ]
  },
  {
   "cell_type": "code",
   "execution_count": 45,
   "metadata": {},
   "outputs": [
    {
     "data": {
      "text/html": [
       "<div>\n",
       "<style scoped>\n",
       "    .dataframe tbody tr th:only-of-type {\n",
       "        vertical-align: middle;\n",
       "    }\n",
       "\n",
       "    .dataframe tbody tr th {\n",
       "        vertical-align: top;\n",
       "    }\n",
       "\n",
       "    .dataframe thead th {\n",
       "        text-align: right;\n",
       "    }\n",
       "</style>\n",
       "<table border=\"1\" class=\"dataframe\">\n",
       "  <thead>\n",
       "    <tr style=\"text-align: right;\">\n",
       "      <th></th>\n",
       "      <th>School Name</th>\n",
       "      <th>School Type</th>\n",
       "      <th>Total Students</th>\n",
       "      <th>Total School Budget</th>\n",
       "      <th>Per Student Budget</th>\n",
       "      <th>Average Maths Score</th>\n",
       "      <th>Average Reading Score</th>\n",
       "      <th>% Passing Maths</th>\n",
       "      <th>% Passing Reading</th>\n",
       "      <th>% Overall Passing</th>\n",
       "    </tr>\n",
       "  </thead>\n",
       "  <tbody>\n",
       "    <tr>\n",
       "      <th></th>\n",
       "      <td>Bailey High School</td>\n",
       "      <td>Government</td>\n",
       "      <td>4976</td>\n",
       "      <td>$3,124,928.00</td>\n",
       "      <td>$628.00</td>\n",
       "      <td>72.352894</td>\n",
       "      <td>71.008842</td>\n",
       "      <td>91.639871</td>\n",
       "      <td>87.379421</td>\n",
       "      <td>80.084405</td>\n",
       "    </tr>\n",
       "    <tr>\n",
       "      <th></th>\n",
       "      <td>Cabrera High School</td>\n",
       "      <td>Independent</td>\n",
       "      <td>1858</td>\n",
       "      <td>$1,081,356.00</td>\n",
       "      <td>$582.00</td>\n",
       "      <td>71.657158</td>\n",
       "      <td>71.359526</td>\n",
       "      <td>90.850377</td>\n",
       "      <td>89.074273</td>\n",
       "      <td>80.785791</td>\n",
       "    </tr>\n",
       "    <tr>\n",
       "      <th></th>\n",
       "      <td>Figueroa High School</td>\n",
       "      <td>Government</td>\n",
       "      <td>2949</td>\n",
       "      <td>$1,884,411.00</td>\n",
       "      <td>$639.00</td>\n",
       "      <td>68.698542</td>\n",
       "      <td>69.077993</td>\n",
       "      <td>81.654798</td>\n",
       "      <td>82.807731</td>\n",
       "      <td>67.650051</td>\n",
       "    </tr>\n",
       "    <tr>\n",
       "      <th></th>\n",
       "      <td>Ford High School</td>\n",
       "      <td>Government</td>\n",
       "      <td>2739</td>\n",
       "      <td>$1,763,916.00</td>\n",
       "      <td>$644.00</td>\n",
       "      <td>69.091274</td>\n",
       "      <td>69.572472</td>\n",
       "      <td>82.438846</td>\n",
       "      <td>82.219788</td>\n",
       "      <td>67.469880</td>\n",
       "    </tr>\n",
       "    <tr>\n",
       "      <th></th>\n",
       "      <td>Griffin High School</td>\n",
       "      <td>Independent</td>\n",
       "      <td>1468</td>\n",
       "      <td>$917,500.00</td>\n",
       "      <td>$625.00</td>\n",
       "      <td>71.788147</td>\n",
       "      <td>71.245232</td>\n",
       "      <td>91.212534</td>\n",
       "      <td>88.487738</td>\n",
       "      <td>81.335150</td>\n",
       "    </tr>\n",
       "    <tr>\n",
       "      <th></th>\n",
       "      <td>Hernandez High School</td>\n",
       "      <td>Government</td>\n",
       "      <td>4635</td>\n",
       "      <td>$3,022,020.00</td>\n",
       "      <td>$652.00</td>\n",
       "      <td>68.874865</td>\n",
       "      <td>69.186408</td>\n",
       "      <td>80.949299</td>\n",
       "      <td>81.877023</td>\n",
       "      <td>66.364617</td>\n",
       "    </tr>\n",
       "    <tr>\n",
       "      <th></th>\n",
       "      <td>Holden High School</td>\n",
       "      <td>Independent</td>\n",
       "      <td>427</td>\n",
       "      <td>$248,087.00</td>\n",
       "      <td>$581.00</td>\n",
       "      <td>72.583138</td>\n",
       "      <td>71.660422</td>\n",
       "      <td>89.929742</td>\n",
       "      <td>88.524590</td>\n",
       "      <td>78.922717</td>\n",
       "    </tr>\n",
       "    <tr>\n",
       "      <th></th>\n",
       "      <td>Huang High School</td>\n",
       "      <td>Government</td>\n",
       "      <td>2917</td>\n",
       "      <td>$1,910,635.00</td>\n",
       "      <td>$655.00</td>\n",
       "      <td>68.935207</td>\n",
       "      <td>68.910525</td>\n",
       "      <td>81.693521</td>\n",
       "      <td>81.453548</td>\n",
       "      <td>66.712376</td>\n",
       "    </tr>\n",
       "    <tr>\n",
       "      <th></th>\n",
       "      <td>Johnson High School</td>\n",
       "      <td>Government</td>\n",
       "      <td>4761</td>\n",
       "      <td>$3,094,650.00</td>\n",
       "      <td>$650.00</td>\n",
       "      <td>68.843100</td>\n",
       "      <td>69.039277</td>\n",
       "      <td>82.062592</td>\n",
       "      <td>81.978576</td>\n",
       "      <td>67.191766</td>\n",
       "    </tr>\n",
       "    <tr>\n",
       "      <th></th>\n",
       "      <td>Pena High School</td>\n",
       "      <td>Independent</td>\n",
       "      <td>962</td>\n",
       "      <td>$585,858.00</td>\n",
       "      <td>$609.00</td>\n",
       "      <td>72.088358</td>\n",
       "      <td>71.613306</td>\n",
       "      <td>91.683992</td>\n",
       "      <td>86.590437</td>\n",
       "      <td>79.209979</td>\n",
       "    </tr>\n",
       "    <tr>\n",
       "      <th></th>\n",
       "      <td>Rodriguez High School</td>\n",
       "      <td>Government</td>\n",
       "      <td>3999</td>\n",
       "      <td>$2,547,363.00</td>\n",
       "      <td>$637.00</td>\n",
       "      <td>72.047762</td>\n",
       "      <td>70.935984</td>\n",
       "      <td>90.797699</td>\n",
       "      <td>87.396849</td>\n",
       "      <td>79.419855</td>\n",
       "    </tr>\n",
       "    <tr>\n",
       "      <th></th>\n",
       "      <td>Shelton High School</td>\n",
       "      <td>Independent</td>\n",
       "      <td>1761</td>\n",
       "      <td>$1,056,600.00</td>\n",
       "      <td>$600.00</td>\n",
       "      <td>72.034072</td>\n",
       "      <td>70.257808</td>\n",
       "      <td>91.538898</td>\n",
       "      <td>86.712095</td>\n",
       "      <td>78.875639</td>\n",
       "    </tr>\n",
       "    <tr>\n",
       "      <th></th>\n",
       "      <td>Thomas High School</td>\n",
       "      <td>Independent</td>\n",
       "      <td>1635</td>\n",
       "      <td>$1,043,130.00</td>\n",
       "      <td>$638.00</td>\n",
       "      <td>69.581651</td>\n",
       "      <td>69.768807</td>\n",
       "      <td>83.853211</td>\n",
       "      <td>82.629969</td>\n",
       "      <td>69.480122</td>\n",
       "    </tr>\n",
       "    <tr>\n",
       "      <th></th>\n",
       "      <td>Wilson High School</td>\n",
       "      <td>Independent</td>\n",
       "      <td>2283</td>\n",
       "      <td>$1,319,574.00</td>\n",
       "      <td>$578.00</td>\n",
       "      <td>69.170828</td>\n",
       "      <td>68.876916</td>\n",
       "      <td>82.785808</td>\n",
       "      <td>81.296540</td>\n",
       "      <td>67.455103</td>\n",
       "    </tr>\n",
       "    <tr>\n",
       "      <th></th>\n",
       "      <td>Wright High School</td>\n",
       "      <td>Independent</td>\n",
       "      <td>1800</td>\n",
       "      <td>$1,049,400.00</td>\n",
       "      <td>$583.00</td>\n",
       "      <td>72.047222</td>\n",
       "      <td>70.969444</td>\n",
       "      <td>91.777778</td>\n",
       "      <td>86.666667</td>\n",
       "      <td>79.722222</td>\n",
       "    </tr>\n",
       "  </tbody>\n",
       "</table>\n",
       "</div>"
      ],
      "text/plain": [
       "            School Name  School Type  Total Students Total School Budget  \\\n",
       "     Bailey High School   Government            4976       $3,124,928.00   \n",
       "    Cabrera High School  Independent            1858       $1,081,356.00   \n",
       "   Figueroa High School   Government            2949       $1,884,411.00   \n",
       "       Ford High School   Government            2739       $1,763,916.00   \n",
       "    Griffin High School  Independent            1468         $917,500.00   \n",
       "  Hernandez High School   Government            4635       $3,022,020.00   \n",
       "     Holden High School  Independent             427         $248,087.00   \n",
       "      Huang High School   Government            2917       $1,910,635.00   \n",
       "    Johnson High School   Government            4761       $3,094,650.00   \n",
       "       Pena High School  Independent             962         $585,858.00   \n",
       "  Rodriguez High School   Government            3999       $2,547,363.00   \n",
       "    Shelton High School  Independent            1761       $1,056,600.00   \n",
       "     Thomas High School  Independent            1635       $1,043,130.00   \n",
       "     Wilson High School  Independent            2283       $1,319,574.00   \n",
       "     Wright High School  Independent            1800       $1,049,400.00   \n",
       "\n",
       " Per Student Budget  Average Maths Score  Average Reading Score  \\\n",
       "            $628.00            72.352894              71.008842   \n",
       "            $582.00            71.657158              71.359526   \n",
       "            $639.00            68.698542              69.077993   \n",
       "            $644.00            69.091274              69.572472   \n",
       "            $625.00            71.788147              71.245232   \n",
       "            $652.00            68.874865              69.186408   \n",
       "            $581.00            72.583138              71.660422   \n",
       "            $655.00            68.935207              68.910525   \n",
       "            $650.00            68.843100              69.039277   \n",
       "            $609.00            72.088358              71.613306   \n",
       "            $637.00            72.047762              70.935984   \n",
       "            $600.00            72.034072              70.257808   \n",
       "            $638.00            69.581651              69.768807   \n",
       "            $578.00            69.170828              68.876916   \n",
       "            $583.00            72.047222              70.969444   \n",
       "\n",
       "  % Passing Maths  % Passing Reading  % Overall Passing  \n",
       "        91.639871          87.379421          80.084405  \n",
       "        90.850377          89.074273          80.785791  \n",
       "        81.654798          82.807731          67.650051  \n",
       "        82.438846          82.219788          67.469880  \n",
       "        91.212534          88.487738          81.335150  \n",
       "        80.949299          81.877023          66.364617  \n",
       "        89.929742          88.524590          78.922717  \n",
       "        81.693521          81.453548          66.712376  \n",
       "        82.062592          81.978576          67.191766  \n",
       "        91.683992          86.590437          79.209979  \n",
       "        90.797699          87.396849          79.419855  \n",
       "        91.538898          86.712095          78.875639  \n",
       "        83.853211          82.629969          69.480122  \n",
       "        82.785808          81.296540          67.455103  \n",
       "        91.777778          86.666667          79.722222  "
      ]
     },
     "execution_count": 45,
     "metadata": {},
     "output_type": "execute_result"
    }
   ],
   "source": [
    "per_school_summary= School_Summary_df_pres\n",
    "\n",
    "# Removing the index for presentation purposes\n",
    "\n",
    "blankIndex=[''] * len(per_school_summary)\n",
    "per_school_summary.index=blankIndex\n",
    "\n",
    "per_school_summary"
   ]
  },
  {
   "cell_type": "markdown",
   "metadata": {},
   "source": [
    "## Top Performing Schools (By % Overall Passing)"
   ]
  },
  {
   "cell_type": "markdown",
   "metadata": {},
   "source": [
    "* Sort and display the top five performing schools by % overall passing."
   ]
  },
  {
   "cell_type": "code",
   "execution_count": 47,
   "metadata": {
    "scrolled": true
   },
   "outputs": [
    {
     "data": {
      "text/html": [
       "<div>\n",
       "<style scoped>\n",
       "    .dataframe tbody tr th:only-of-type {\n",
       "        vertical-align: middle;\n",
       "    }\n",
       "\n",
       "    .dataframe tbody tr th {\n",
       "        vertical-align: top;\n",
       "    }\n",
       "\n",
       "    .dataframe thead th {\n",
       "        text-align: right;\n",
       "    }\n",
       "</style>\n",
       "<table border=\"1\" class=\"dataframe\">\n",
       "  <thead>\n",
       "    <tr style=\"text-align: right;\">\n",
       "      <th></th>\n",
       "      <th>School Name</th>\n",
       "      <th>School Type</th>\n",
       "      <th>Total Students</th>\n",
       "      <th>Total School Budget</th>\n",
       "      <th>Per Student Budget</th>\n",
       "      <th>Average Maths Score</th>\n",
       "      <th>Average Reading Score</th>\n",
       "      <th>% Passing Maths</th>\n",
       "      <th>% Passing Reading</th>\n",
       "      <th>% Overall Passing</th>\n",
       "    </tr>\n",
       "  </thead>\n",
       "  <tbody>\n",
       "    <tr>\n",
       "      <th></th>\n",
       "      <td>Griffin High School</td>\n",
       "      <td>Independent</td>\n",
       "      <td>1468</td>\n",
       "      <td>$917,500.00</td>\n",
       "      <td>$625.00</td>\n",
       "      <td>71.788147</td>\n",
       "      <td>71.245232</td>\n",
       "      <td>91.212534</td>\n",
       "      <td>88.487738</td>\n",
       "      <td>81.335150</td>\n",
       "    </tr>\n",
       "    <tr>\n",
       "      <th></th>\n",
       "      <td>Cabrera High School</td>\n",
       "      <td>Independent</td>\n",
       "      <td>1858</td>\n",
       "      <td>$1,081,356.00</td>\n",
       "      <td>$582.00</td>\n",
       "      <td>71.657158</td>\n",
       "      <td>71.359526</td>\n",
       "      <td>90.850377</td>\n",
       "      <td>89.074273</td>\n",
       "      <td>80.785791</td>\n",
       "    </tr>\n",
       "    <tr>\n",
       "      <th></th>\n",
       "      <td>Bailey High School</td>\n",
       "      <td>Government</td>\n",
       "      <td>4976</td>\n",
       "      <td>$3,124,928.00</td>\n",
       "      <td>$628.00</td>\n",
       "      <td>72.352894</td>\n",
       "      <td>71.008842</td>\n",
       "      <td>91.639871</td>\n",
       "      <td>87.379421</td>\n",
       "      <td>80.084405</td>\n",
       "    </tr>\n",
       "    <tr>\n",
       "      <th></th>\n",
       "      <td>Wright High School</td>\n",
       "      <td>Independent</td>\n",
       "      <td>1800</td>\n",
       "      <td>$1,049,400.00</td>\n",
       "      <td>$583.00</td>\n",
       "      <td>72.047222</td>\n",
       "      <td>70.969444</td>\n",
       "      <td>91.777778</td>\n",
       "      <td>86.666667</td>\n",
       "      <td>79.722222</td>\n",
       "    </tr>\n",
       "    <tr>\n",
       "      <th></th>\n",
       "      <td>Rodriguez High School</td>\n",
       "      <td>Government</td>\n",
       "      <td>3999</td>\n",
       "      <td>$2,547,363.00</td>\n",
       "      <td>$637.00</td>\n",
       "      <td>72.047762</td>\n",
       "      <td>70.935984</td>\n",
       "      <td>90.797699</td>\n",
       "      <td>87.396849</td>\n",
       "      <td>79.419855</td>\n",
       "    </tr>\n",
       "  </tbody>\n",
       "</table>\n",
       "</div>"
      ],
      "text/plain": [
       "            School Name  School Type  Total Students Total School Budget  \\\n",
       "    Griffin High School  Independent            1468         $917,500.00   \n",
       "    Cabrera High School  Independent            1858       $1,081,356.00   \n",
       "     Bailey High School   Government            4976       $3,124,928.00   \n",
       "     Wright High School  Independent            1800       $1,049,400.00   \n",
       "  Rodriguez High School   Government            3999       $2,547,363.00   \n",
       "\n",
       " Per Student Budget  Average Maths Score  Average Reading Score  \\\n",
       "            $625.00            71.788147              71.245232   \n",
       "            $582.00            71.657158              71.359526   \n",
       "            $628.00            72.352894              71.008842   \n",
       "            $583.00            72.047222              70.969444   \n",
       "            $637.00            72.047762              70.935984   \n",
       "\n",
       "  % Passing Maths  % Passing Reading  % Overall Passing  \n",
       "        91.212534          88.487738          81.335150  \n",
       "        90.850377          89.074273          80.785791  \n",
       "        91.639871          87.379421          80.084405  \n",
       "        91.777778          86.666667          79.722222  \n",
       "        90.797699          87.396849          79.419855  "
      ]
     },
     "execution_count": 47,
     "metadata": {},
     "output_type": "execute_result"
    }
   ],
   "source": [
    "# Highest to Lowest Overall Passing Score\n",
    "\n",
    "top_schools = per_school_summary.sort_values(\"% Overall Passing\", ascending=False)\n",
    "\n",
    "blankIndex=[''] * len(top_schools)\n",
    "top_schools.index=blankIndex\n",
    "\n",
    "# The top 5 schools\n",
    "\n",
    "top_schools.head(5)"
   ]
  },
  {
   "cell_type": "markdown",
   "metadata": {},
   "source": [
    "## Bottom Performing Schools (By % Overall Passing)"
   ]
  },
  {
   "cell_type": "markdown",
   "metadata": {},
   "source": [
    "* Sort and display the five worst-performing schools by % overall passing."
   ]
  },
  {
   "cell_type": "code",
   "execution_count": 48,
   "metadata": {},
   "outputs": [
    {
     "data": {
      "text/html": [
       "<div>\n",
       "<style scoped>\n",
       "    .dataframe tbody tr th:only-of-type {\n",
       "        vertical-align: middle;\n",
       "    }\n",
       "\n",
       "    .dataframe tbody tr th {\n",
       "        vertical-align: top;\n",
       "    }\n",
       "\n",
       "    .dataframe thead th {\n",
       "        text-align: right;\n",
       "    }\n",
       "</style>\n",
       "<table border=\"1\" class=\"dataframe\">\n",
       "  <thead>\n",
       "    <tr style=\"text-align: right;\">\n",
       "      <th></th>\n",
       "      <th>School Name</th>\n",
       "      <th>School Type</th>\n",
       "      <th>Total Students</th>\n",
       "      <th>Total School Budget</th>\n",
       "      <th>Per Student Budget</th>\n",
       "      <th>Average Maths Score</th>\n",
       "      <th>Average Reading Score</th>\n",
       "      <th>% Passing Maths</th>\n",
       "      <th>% Passing Reading</th>\n",
       "      <th>% Overall Passing</th>\n",
       "    </tr>\n",
       "  </thead>\n",
       "  <tbody>\n",
       "    <tr>\n",
       "      <th></th>\n",
       "      <td>Hernandez High School</td>\n",
       "      <td>Government</td>\n",
       "      <td>4635</td>\n",
       "      <td>$3,022,020.00</td>\n",
       "      <td>$652.00</td>\n",
       "      <td>68.874865</td>\n",
       "      <td>69.186408</td>\n",
       "      <td>80.949299</td>\n",
       "      <td>81.877023</td>\n",
       "      <td>66.364617</td>\n",
       "    </tr>\n",
       "    <tr>\n",
       "      <th></th>\n",
       "      <td>Huang High School</td>\n",
       "      <td>Government</td>\n",
       "      <td>2917</td>\n",
       "      <td>$1,910,635.00</td>\n",
       "      <td>$655.00</td>\n",
       "      <td>68.935207</td>\n",
       "      <td>68.910525</td>\n",
       "      <td>81.693521</td>\n",
       "      <td>81.453548</td>\n",
       "      <td>66.712376</td>\n",
       "    </tr>\n",
       "    <tr>\n",
       "      <th></th>\n",
       "      <td>Johnson High School</td>\n",
       "      <td>Government</td>\n",
       "      <td>4761</td>\n",
       "      <td>$3,094,650.00</td>\n",
       "      <td>$650.00</td>\n",
       "      <td>68.843100</td>\n",
       "      <td>69.039277</td>\n",
       "      <td>82.062592</td>\n",
       "      <td>81.978576</td>\n",
       "      <td>67.191766</td>\n",
       "    </tr>\n",
       "    <tr>\n",
       "      <th></th>\n",
       "      <td>Wilson High School</td>\n",
       "      <td>Independent</td>\n",
       "      <td>2283</td>\n",
       "      <td>$1,319,574.00</td>\n",
       "      <td>$578.00</td>\n",
       "      <td>69.170828</td>\n",
       "      <td>68.876916</td>\n",
       "      <td>82.785808</td>\n",
       "      <td>81.296540</td>\n",
       "      <td>67.455103</td>\n",
       "    </tr>\n",
       "    <tr>\n",
       "      <th></th>\n",
       "      <td>Ford High School</td>\n",
       "      <td>Government</td>\n",
       "      <td>2739</td>\n",
       "      <td>$1,763,916.00</td>\n",
       "      <td>$644.00</td>\n",
       "      <td>69.091274</td>\n",
       "      <td>69.572472</td>\n",
       "      <td>82.438846</td>\n",
       "      <td>82.219788</td>\n",
       "      <td>67.469880</td>\n",
       "    </tr>\n",
       "  </tbody>\n",
       "</table>\n",
       "</div>"
      ],
      "text/plain": [
       "            School Name  School Type  Total Students Total School Budget  \\\n",
       "  Hernandez High School   Government            4635       $3,022,020.00   \n",
       "      Huang High School   Government            2917       $1,910,635.00   \n",
       "    Johnson High School   Government            4761       $3,094,650.00   \n",
       "     Wilson High School  Independent            2283       $1,319,574.00   \n",
       "       Ford High School   Government            2739       $1,763,916.00   \n",
       "\n",
       " Per Student Budget  Average Maths Score  Average Reading Score  \\\n",
       "            $652.00            68.874865              69.186408   \n",
       "            $655.00            68.935207              68.910525   \n",
       "            $650.00            68.843100              69.039277   \n",
       "            $578.00            69.170828              68.876916   \n",
       "            $644.00            69.091274              69.572472   \n",
       "\n",
       "  % Passing Maths  % Passing Reading  % Overall Passing  \n",
       "        80.949299          81.877023          66.364617  \n",
       "        81.693521          81.453548          66.712376  \n",
       "        82.062592          81.978576          67.191766  \n",
       "        82.785808          81.296540          67.455103  \n",
       "        82.438846          82.219788          67.469880  "
      ]
     },
     "execution_count": 48,
     "metadata": {},
     "output_type": "execute_result"
    }
   ],
   "source": [
    "# Lowest to Highest Overall Passing Score\n",
    "\n",
    "bottom_schools = per_school_summary.sort_values(\"% Overall Passing\")\n",
    "\n",
    "blankIndex=[''] * len(bottom_schools)\n",
    "bottom_schools.index=blankIndex\n",
    "\n",
    "# Top 5 schools (the lowest scores possible)\n",
    "\n",
    "bottom_schools.head(5)"
   ]
  },
  {
   "cell_type": "markdown",
   "metadata": {
    "collapsed": true
   },
   "source": [
    "## Maths Scores by Year"
   ]
  },
  {
   "cell_type": "markdown",
   "metadata": {},
   "source": [
    "* Create a table that lists the average maths score for students of each year level (9, 10, 11, 12) at each school.\n",
    "\n",
    "  * Create a pandas series for each year. Hint: use a conditional statement.\n",
    "  \n",
    "  * Group each series by school\n",
    "  \n",
    "  * Combine the series into a dataframe\n",
    "  \n",
    "  * Optional: give the displayed data cleaner formatting"
   ]
  },
  {
   "cell_type": "code",
   "execution_count": 49,
   "metadata": {},
   "outputs": [],
   "source": [
    "# Serie for year 9\n",
    "\n",
    "year_9 = school_data_complete.loc[(school_data_complete[\"year\"]== 9 ) , :]\n",
    "\n",
    "year_9_data = year_9.groupby(\"school_name\").mean()"
   ]
  },
  {
   "cell_type": "code",
   "execution_count": 52,
   "metadata": {},
   "outputs": [
    {
     "name": "stdout",
     "output_type": "stream",
     "text": [
      "       Student ID      student_name gender  year         school_name  \\\n",
      "0               0      Paul Bradley      M     9   Huang High School   \n",
      "4               4        Bonnie Ray      F     9   Huang High School   \n",
      "5               5     Bryan Miranda      M     9   Huang High School   \n",
      "12             12   Brittney Walker      F     9   Huang High School   \n",
      "13             13      William Long      M     9   Huang High School   \n",
      "...           ...               ...    ...   ...                 ...   \n",
      "39152       39152        Lori Moore      F     9  Thomas High School   \n",
      "39153       39153   William Hubbard      M     9  Thomas High School   \n",
      "39157       39157  Kristen Gonzalez      F     9  Thomas High School   \n",
      "39164       39164    Joseph Anthony      M     9  Thomas High School   \n",
      "39167       39167    Rebecca Tanner      F     9  Thomas High School   \n",
      "\n",
      "       reading_score  maths_score  School ID         type  size   budget  \n",
      "0                 96           94          0   Government  2917  1910635  \n",
      "4                 87           69          0   Government  2917  1910635  \n",
      "5                 88           93          0   Government  2917  1910635  \n",
      "12                76           81          0   Government  2917  1910635  \n",
      "13                73           88          0   Government  2917  1910635  \n",
      "...              ...          ...        ...          ...   ...      ...  \n",
      "39152             74           70         14  Independent  1635  1043130  \n",
      "39153             91           90         14  Independent  1635  1043130  \n",
      "39157             77           43         14  Independent  1635  1043130  \n",
      "39164             97           79         14  Independent  1635  1043130  \n",
      "39167             99           99         14  Independent  1635  1043130  \n",
      "\n",
      "[11408 rows x 11 columns]\n"
     ]
    }
   ],
   "source": [
    "print (year_9)"
   ]
  },
  {
   "cell_type": "code",
   "execution_count": 53,
   "metadata": {},
   "outputs": [],
   "source": [
    "# Serie for year 10\n",
    "\n",
    "year_10 = school_data_complete.loc[(school_data_complete[\"year\"]== 10 ) , :]\n",
    "\n",
    "year_10_data = year_10.groupby(\"school_name\").mean()"
   ]
  },
  {
   "cell_type": "code",
   "execution_count": 54,
   "metadata": {},
   "outputs": [
    {
     "name": "stdout",
     "output_type": "stream",
     "text": [
      "       Student ID      student_name gender  year         school_name  \\\n",
      "8               8      Michael Roth      M    10   Huang High School   \n",
      "9               9    Matthew Greene      M    10   Huang High School   \n",
      "10             10  Andrew Alexander      M    10   Huang High School   \n",
      "11             11     Daniel Cooper      M    10   Huang High School   \n",
      "14             14      Tammy Hebert      F    10   Huang High School   \n",
      "...           ...               ...    ...   ...                 ...   \n",
      "39155       39155       John Brooks      M    10  Thomas High School   \n",
      "39158       39158     Kari Holloway      F    10  Thomas High School   \n",
      "39161       39161       April Reyes      F    10  Thomas High School   \n",
      "39166       39166         Dawn Bell      F    10  Thomas High School   \n",
      "39168       39168      Desiree Kidd      F    10  Thomas High School   \n",
      "\n",
      "       reading_score  maths_score  School ID         type  size   budget  \n",
      "8                 94           66          0   Government  2917  1910635  \n",
      "9                 64           77          0   Government  2917  1910635  \n",
      "10                50           66          0   Government  2917  1910635  \n",
      "11                66           89          0   Government  2917  1910635  \n",
      "14                80           79          0   Government  2917  1910635  \n",
      "...              ...          ...        ...          ...   ...      ...  \n",
      "39155             84           56         14  Independent  1635  1043130  \n",
      "39158             45           52         14  Independent  1635  1043130  \n",
      "39161             78           80         14  Independent  1635  1043130  \n",
      "39166             81           89         14  Independent  1635  1043130  \n",
      "39168             72           77         14  Independent  1635  1043130  \n",
      "\n",
      "[10168 rows x 11 columns]\n"
     ]
    }
   ],
   "source": [
    "print (year_10)\n"
   ]
  },
  {
   "cell_type": "code",
   "execution_count": 59,
   "metadata": {},
   "outputs": [],
   "source": [
    "# Serie for year 11\n",
    "\n",
    "year_11 = school_data_complete.loc[(school_data_complete[\"year\"]== 11 ) , :]\n",
    "\n",
    "year_11_data = year_11.groupby(\"school_name\").mean()"
   ]
  },
  {
   "cell_type": "code",
   "execution_count": 56,
   "metadata": {},
   "outputs": [
    {
     "name": "stdout",
     "output_type": "stream",
     "text": [
      "       Student ID         student_name gender  year         school_name  \\\n",
      "6               6        Sheena Carter      F    11   Huang High School   \n",
      "15             15        Jordan Carson      M    11   Huang High School   \n",
      "22             22     Kimberly Stewart      F    11   Huang High School   \n",
      "24             24     Chelsea Griffith      F    11   Huang High School   \n",
      "28             28          Kelly James      F    11   Huang High School   \n",
      "...           ...                  ...    ...   ...                 ...   \n",
      "39156       39156  Stephanie Contreras      F    11  Thomas High School   \n",
      "39159       39159     Kimberly Cabrera      F    11  Thomas High School   \n",
      "39160       39160         Katie Weaver      F    11  Thomas High School   \n",
      "39163       39163           John Reese      M    11  Thomas High School   \n",
      "39169       39169      Carolyn Jackson      F    11  Thomas High School   \n",
      "\n",
      "       reading_score  maths_score  School ID         type  size   budget  \n",
      "6                 73           60          0   Government  2917  1910635  \n",
      "15                86           46          0   Government  2917  1910635  \n",
      "22                39           69          0   Government  2917  1910635  \n",
      "24                94           96          0   Government  2917  1910635  \n",
      "28                97           83          0   Government  2917  1910635  \n",
      "...              ...          ...        ...          ...   ...      ...  \n",
      "39156             52           96         14  Independent  1635  1043130  \n",
      "39159             68           74         14  Independent  1635  1043130  \n",
      "39160             47           95         14  Independent  1635  1043130  \n",
      "39163             79           86         14  Independent  1635  1043130  \n",
      "39169             47           62         14  Independent  1635  1043130  \n",
      "\n",
      "[9695 rows x 11 columns]\n"
     ]
    }
   ],
   "source": [
    "print (year_11)"
   ]
  },
  {
   "cell_type": "markdown",
   "metadata": {},
   "source": [
    "## Reading Score by Year"
   ]
  },
  {
   "cell_type": "markdown",
   "metadata": {},
   "source": [
    "* Perform the same operations as above for reading scores"
   ]
  },
  {
   "cell_type": "code",
   "execution_count": 58,
   "metadata": {},
   "outputs": [],
   "source": [
    "# Serie for Year 12\n",
    "\n",
    "year_12 = school_data_complete.loc[(school_data_complete[\"year\"]== 12 ) , :]\n",
    "\n",
    "year_12_data = year_12.groupby(\"school_name\").mean()"
   ]
  },
  {
   "cell_type": "code",
   "execution_count": 60,
   "metadata": {},
   "outputs": [
    {
     "name": "stdout",
     "output_type": "stream",
     "text": [
      "       Student ID      student_name gender  year         school_name  \\\n",
      "1               1      Victor Smith      M    12   Huang High School   \n",
      "2               2   Kevin Rodriguez      M    12   Huang High School   \n",
      "3               3     Richard Scott      M    12   Huang High School   \n",
      "7               7      Nicole Baker      F    12   Huang High School   \n",
      "29             29      Nicole Brown      F    12   Huang High School   \n",
      "...           ...               ...    ...   ...                 ...   \n",
      "39137       39137   Victoria Bailey      F    12  Thomas High School   \n",
      "39144       39144  Cristian Webster      M    12  Thomas High School   \n",
      "39154       39154   Bradley Johnson      M    12  Thomas High School   \n",
      "39162       39162       Derek Weeks      M    12  Thomas High School   \n",
      "39165       39165      Donna Howard      F    12  Thomas High School   \n",
      "\n",
      "       reading_score  maths_score  School ID         type  size   budget  \n",
      "1                 90           43          0   Government  2917  1910635  \n",
      "2                 41           76          0   Government  2917  1910635  \n",
      "3                 89           86          0   Government  2917  1910635  \n",
      "7                 69           64          0   Government  2917  1910635  \n",
      "29                94           39          0   Government  2917  1910635  \n",
      "...              ...          ...        ...          ...   ...      ...  \n",
      "39137             52           65         14  Independent  1635  1043130  \n",
      "39144             99           53         14  Independent  1635  1043130  \n",
      "39154             98           42         14  Independent  1635  1043130  \n",
      "39162             88           72         14  Independent  1635  1043130  \n",
      "39165             51           48         14  Independent  1635  1043130  \n",
      "\n",
      "[7899 rows x 11 columns]\n"
     ]
    }
   ],
   "source": [
    "print (year_12)"
   ]
  },
  {
   "cell_type": "code",
   "execution_count": 61,
   "metadata": {},
   "outputs": [
    {
     "data": {
      "text/html": [
       "<div>\n",
       "<style scoped>\n",
       "    .dataframe tbody tr th:only-of-type {\n",
       "        vertical-align: middle;\n",
       "    }\n",
       "\n",
       "    .dataframe tbody tr th {\n",
       "        vertical-align: top;\n",
       "    }\n",
       "\n",
       "    .dataframe thead th {\n",
       "        text-align: right;\n",
       "    }\n",
       "</style>\n",
       "<table border=\"1\" class=\"dataframe\">\n",
       "  <thead>\n",
       "    <tr style=\"text-align: right;\">\n",
       "      <th></th>\n",
       "      <th>Year 9</th>\n",
       "      <th>Year 10</th>\n",
       "      <th>Year 11</th>\n",
       "      <th>Year 12</th>\n",
       "    </tr>\n",
       "    <tr>\n",
       "      <th></th>\n",
       "      <th></th>\n",
       "      <th></th>\n",
       "      <th></th>\n",
       "      <th></th>\n",
       "    </tr>\n",
       "  </thead>\n",
       "  <tbody>\n",
       "    <tr>\n",
       "      <th>Bailey High School</th>\n",
       "      <td>72.493827</td>\n",
       "      <td>71.897498</td>\n",
       "      <td>72.374900</td>\n",
       "      <td>72.675097</td>\n",
       "    </tr>\n",
       "    <tr>\n",
       "      <th>Cabrera High School</th>\n",
       "      <td>72.321970</td>\n",
       "      <td>72.437768</td>\n",
       "      <td>71.008299</td>\n",
       "      <td>70.604712</td>\n",
       "    </tr>\n",
       "    <tr>\n",
       "      <th>Figueroa High School</th>\n",
       "      <td>68.477804</td>\n",
       "      <td>68.331586</td>\n",
       "      <td>68.811001</td>\n",
       "      <td>69.325282</td>\n",
       "    </tr>\n",
       "    <tr>\n",
       "      <th>Ford High School</th>\n",
       "      <td>69.021609</td>\n",
       "      <td>69.387006</td>\n",
       "      <td>69.248862</td>\n",
       "      <td>68.617811</td>\n",
       "    </tr>\n",
       "    <tr>\n",
       "      <th>Griffin High School</th>\n",
       "      <td>72.789731</td>\n",
       "      <td>71.093596</td>\n",
       "      <td>71.692521</td>\n",
       "      <td>71.469178</td>\n",
       "    </tr>\n",
       "    <tr>\n",
       "      <th>Hernandez High School</th>\n",
       "      <td>68.586831</td>\n",
       "      <td>68.867156</td>\n",
       "      <td>69.154412</td>\n",
       "      <td>68.985075</td>\n",
       "    </tr>\n",
       "    <tr>\n",
       "      <th>Holden High School</th>\n",
       "      <td>70.543307</td>\n",
       "      <td>75.105263</td>\n",
       "      <td>71.640777</td>\n",
       "      <td>73.409639</td>\n",
       "    </tr>\n",
       "    <tr>\n",
       "      <th>Huang High School</th>\n",
       "      <td>69.081754</td>\n",
       "      <td>68.533246</td>\n",
       "      <td>69.431345</td>\n",
       "      <td>68.639316</td>\n",
       "    </tr>\n",
       "    <tr>\n",
       "      <th>Johnson High School</th>\n",
       "      <td>69.469286</td>\n",
       "      <td>67.990220</td>\n",
       "      <td>68.637730</td>\n",
       "      <td>69.287393</td>\n",
       "    </tr>\n",
       "    <tr>\n",
       "      <th>Pena High School</th>\n",
       "      <td>71.996364</td>\n",
       "      <td>72.396000</td>\n",
       "      <td>72.523438</td>\n",
       "      <td>71.187845</td>\n",
       "    </tr>\n",
       "    <tr>\n",
       "      <th>Rodriguez High School</th>\n",
       "      <td>71.940722</td>\n",
       "      <td>71.779808</td>\n",
       "      <td>72.364811</td>\n",
       "      <td>72.154626</td>\n",
       "    </tr>\n",
       "    <tr>\n",
       "      <th>Shelton High School</th>\n",
       "      <td>72.932075</td>\n",
       "      <td>72.506696</td>\n",
       "      <td>70.097087</td>\n",
       "      <td>72.331536</td>\n",
       "    </tr>\n",
       "    <tr>\n",
       "      <th>Thomas High School</th>\n",
       "      <td>69.234273</td>\n",
       "      <td>70.057007</td>\n",
       "      <td>69.657831</td>\n",
       "      <td>69.369822</td>\n",
       "    </tr>\n",
       "    <tr>\n",
       "      <th>Wilson High School</th>\n",
       "      <td>69.212361</td>\n",
       "      <td>69.455446</td>\n",
       "      <td>68.378965</td>\n",
       "      <td>69.787472</td>\n",
       "    </tr>\n",
       "    <tr>\n",
       "      <th>Wright High School</th>\n",
       "      <td>71.741176</td>\n",
       "      <td>72.179012</td>\n",
       "      <td>73.275862</td>\n",
       "      <td>70.848238</td>\n",
       "    </tr>\n",
       "  </tbody>\n",
       "</table>\n",
       "</div>"
      ],
      "text/plain": [
       "                          Year 9    Year 10    Year 11    Year 12\n",
       "                                                                 \n",
       "Bailey High School     72.493827  71.897498  72.374900  72.675097\n",
       "Cabrera High School    72.321970  72.437768  71.008299  70.604712\n",
       "Figueroa High School   68.477804  68.331586  68.811001  69.325282\n",
       "Ford High School       69.021609  69.387006  69.248862  68.617811\n",
       "Griffin High School    72.789731  71.093596  71.692521  71.469178\n",
       "Hernandez High School  68.586831  68.867156  69.154412  68.985075\n",
       "Holden High School     70.543307  75.105263  71.640777  73.409639\n",
       "Huang High School      69.081754  68.533246  69.431345  68.639316\n",
       "Johnson High School    69.469286  67.990220  68.637730  69.287393\n",
       "Pena High School       71.996364  72.396000  72.523438  71.187845\n",
       "Rodriguez High School  71.940722  71.779808  72.364811  72.154626\n",
       "Shelton High School    72.932075  72.506696  70.097087  72.331536\n",
       "Thomas High School     69.234273  70.057007  69.657831  69.369822\n",
       "Wilson High School     69.212361  69.455446  68.378965  69.787472\n",
       "Wright High School     71.741176  72.179012  73.275862  70.848238"
      ]
     },
     "execution_count": 61,
     "metadata": {},
     "output_type": "execute_result"
    }
   ],
   "source": [
    "# To obtain the Maths Dataframe per year the 4 columns \n",
    "\n",
    "Maths_df = pd.concat([year_9_data.maths_score, year_10_data.maths_score, year_11_data.maths_score, year_12_data.maths_score ], axis = 1)\n",
    "\n",
    "# For presentation purposes the columns are renamed to Year_i [i=9,10,11,12] and the index name removed to match the presentation requirements\n",
    "\n",
    "Maths_df.columns.array[0] = \"Year 9\"\n",
    "Maths_df.columns.array[1] = \"Year 10\"\n",
    "Maths_df.columns.array[2] = \"Year 11\"\n",
    "Maths_df.columns.array[3] = \"Year 12\"\n",
    "\n",
    "Maths_df.index.name = \"\"\n",
    "\n",
    "maths_scores_by_year = Maths_df\n",
    "\n",
    "maths_scores_by_year"
   ]
  },
  {
   "cell_type": "markdown",
   "metadata": {},
   "source": [
    "## Scores by School Spending"
   ]
  },
  {
   "cell_type": "markdown",
   "metadata": {},
   "source": [
    "* Create a table that breaks down school performances based on average Spending Ranges (Per Student). Use 4 reasonable bins to group school spending. Include in the table each of the following:\n",
    "  * Average Maths Score\n",
    "  * Average Reading Score\n",
    "  * % Passing Maths\n",
    "  * % Passing Reading\n",
    "  * Overall Passing Rate (Average of the above two)"
   ]
  },
  {
   "cell_type": "code",
   "execution_count": 62,
   "metadata": {},
   "outputs": [
    {
     "data": {
      "text/html": [
       "<div>\n",
       "<style scoped>\n",
       "    .dataframe tbody tr th:only-of-type {\n",
       "        vertical-align: middle;\n",
       "    }\n",
       "\n",
       "    .dataframe tbody tr th {\n",
       "        vertical-align: top;\n",
       "    }\n",
       "\n",
       "    .dataframe thead th {\n",
       "        text-align: right;\n",
       "    }\n",
       "</style>\n",
       "<table border=\"1\" class=\"dataframe\">\n",
       "  <thead>\n",
       "    <tr style=\"text-align: right;\">\n",
       "      <th></th>\n",
       "      <th>Average Maths Score</th>\n",
       "      <th>Average Reading Score</th>\n",
       "      <th>% Passing Maths</th>\n",
       "      <th>% Passing Reading</th>\n",
       "      <th>% Overall Passing</th>\n",
       "    </tr>\n",
       "    <tr>\n",
       "      <th>Spending Ranges(Per Student)</th>\n",
       "      <th></th>\n",
       "      <th></th>\n",
       "      <th></th>\n",
       "      <th></th>\n",
       "      <th></th>\n",
       "    </tr>\n",
       "  </thead>\n",
       "  <tbody>\n",
       "    <tr>\n",
       "      <th>&lt;$585</th>\n",
       "      <td>70.94</td>\n",
       "      <td>70.38</td>\n",
       "      <td>88.16</td>\n",
       "      <td>85.57</td>\n",
       "      <td>75.58</td>\n",
       "    </tr>\n",
       "    <tr>\n",
       "      <th>$585-630</th>\n",
       "      <td>72.17</td>\n",
       "      <td>70.97</td>\n",
       "      <td>91.56</td>\n",
       "      <td>87.35</td>\n",
       "      <td>79.96</td>\n",
       "    </tr>\n",
       "    <tr>\n",
       "      <th>$630-645</th>\n",
       "      <td>70.10</td>\n",
       "      <td>69.95</td>\n",
       "      <td>85.39</td>\n",
       "      <td>84.26</td>\n",
       "      <td>72.03</td>\n",
       "    </tr>\n",
       "    <tr>\n",
       "      <th>$645-680</th>\n",
       "      <td>68.88</td>\n",
       "      <td>69.06</td>\n",
       "      <td>81.56</td>\n",
       "      <td>81.82</td>\n",
       "      <td>66.77</td>\n",
       "    </tr>\n",
       "  </tbody>\n",
       "</table>\n",
       "</div>"
      ],
      "text/plain": [
       "                             Average Maths Score Average Reading Score  \\\n",
       "Spending Ranges(Per Student)                                             \n",
       "<$585                                      70.94                 70.38   \n",
       "$585-630                                   72.17                 70.97   \n",
       "$630-645                                   70.10                 69.95   \n",
       "$645-680                                   68.88                 69.06   \n",
       "\n",
       "                             % Passing Maths % Passing Reading  \\\n",
       "Spending Ranges(Per Student)                                     \n",
       "<$585                                  88.16             85.57   \n",
       "$585-630                               91.56             87.35   \n",
       "$630-645                               85.39             84.26   \n",
       "$645-680                               81.56             81.82   \n",
       "\n",
       "                             % Overall Passing  \n",
       "Spending Ranges(Per Student)                    \n",
       "<$585                                    75.58  \n",
       "$585-630                                 79.96  \n",
       "$630-645                                 72.03  \n",
       "$645-680                                 66.77  "
      ]
     },
     "execution_count": 62,
     "metadata": {},
     "output_type": "execute_result"
    }
   ],
   "source": [
    "# merge_dfx3 Contains all the students grades \n",
    "\n",
    "#   Passed_math with a 1 if the score is greater or equal to 50 in Maths\n",
    "#   Passed_reading with a 1 if the score is greater or equal to 50 in Reading\n",
    "#   Passed_Overall with a 1 if the score is greater or equal to 50 in Maths and in Reading\n",
    "\n",
    "merge_dfx3 = pd.merge(student_data_total,school_sum, on= \"school_name\")\n",
    "\n",
    "# Create the bins in which Data will be held\n",
    "# Bins are 0, 585, 630, 645, 680.   \n",
    "bins = [0, 585, 630, 645, 680]\n",
    "\n",
    "# Create the names for the four bins\n",
    "group_names = [\"<$585\", \"$585-630\", \"$630-645\", \"$645-680\"]\n",
    "\n",
    "merge_dfx3[\"Spending Ranges(Per Student)\"] = pd.cut(merge_dfx3[\"Per Student Budget\"], bins, labels=group_names, include_lowest=True)\n",
    "\n",
    "# School_Spending_df contains only the relevant columns:\n",
    "\n",
    "School_Spending_df = merge_dfx3 [[\"Spending Ranges(Per Student)\", \"maths_score\", \"reading_score\" , \"Passed_math\", \"Passed_reading\", \"Passed_Overall\" ]]\n",
    "\n",
    "# # Creating a group based off of the bins\n",
    "School_Spending_df = School_Spending_df.groupby(\"Spending Ranges(Per Student)\").mean()\n",
    "\n",
    "# School_Spending_df_pres column \n",
    "\n",
    "School_Spending_df_pres = School_Spending_df.rename(columns={\"maths_score\" : \"Average Maths Score\", \"reading_score\": \"Average Reading Score\" , \"Passed_math\" : \"% Passing Maths\", \"Passed_reading\" : \"% Passing Reading\", \"Passed_Overall\": \"% Overall Passing\"})\n",
    "\n",
    "# School_Spending_df_pres \n",
    "\n",
    "School_Spending_df_pres[\"Average Maths Score\"] = School_Spending_df_pres[\"Average Maths Score\"].map(\"{:,.2f}\".format)\n",
    "\n",
    "School_Spending_df_pres[\"Average Reading Score\"] = School_Spending_df_pres[\"Average Reading Score\"].map(\"{:,.2f}\".format)\n",
    "\n",
    "School_Spending_df_pres[\"% Passing Maths\"] = (School_Spending_df_pres[\"% Passing Maths\"]*100).map(\"{:,.2f}\".format)\n",
    "\n",
    "School_Spending_df_pres[\"% Passing Reading\"] = (School_Spending_df_pres[\"% Passing Reading\"]*100).map(\"{:,.2f}\".format)\n",
    "\n",
    "School_Spending_df_pres[\"% Overall Passing\"] = (School_Spending_df_pres[\"% Overall Passing\"]*100).map(\"{:,.2f}\".format)\n",
    "\n",
    "\n",
    "spending_summary = School_Spending_df_pres\n",
    "\n",
    "spending_summary"
   ]
  },
  {
   "cell_type": "markdown",
   "metadata": {},
   "source": [
    "## Scores by School Size"
   ]
  },
  {
   "cell_type": "markdown",
   "metadata": {},
   "source": [
    "* Perform the same operations as above, based on school size."
   ]
  },
  {
   "cell_type": "code",
   "execution_count": 63,
   "metadata": {
    "scrolled": true
   },
   "outputs": [
    {
     "data": {
      "text/html": [
       "<div>\n",
       "<style scoped>\n",
       "    .dataframe tbody tr th:only-of-type {\n",
       "        vertical-align: middle;\n",
       "    }\n",
       "\n",
       "    .dataframe tbody tr th {\n",
       "        vertical-align: top;\n",
       "    }\n",
       "\n",
       "    .dataframe thead th {\n",
       "        text-align: right;\n",
       "    }\n",
       "</style>\n",
       "<table border=\"1\" class=\"dataframe\">\n",
       "  <thead>\n",
       "    <tr style=\"text-align: right;\">\n",
       "      <th></th>\n",
       "      <th>Average Maths Score</th>\n",
       "      <th>Average Reading Score</th>\n",
       "      <th>% Passing Maths</th>\n",
       "      <th>% Passing Reading</th>\n",
       "      <th>% Overall Passing</th>\n",
       "    </tr>\n",
       "    <tr>\n",
       "      <th>School Size</th>\n",
       "      <th></th>\n",
       "      <th></th>\n",
       "      <th></th>\n",
       "      <th></th>\n",
       "      <th></th>\n",
       "    </tr>\n",
       "  </thead>\n",
       "  <tbody>\n",
       "    <tr>\n",
       "      <th>Small(&lt;1000)</th>\n",
       "      <td>72.240461</td>\n",
       "      <td>71.627790</td>\n",
       "      <td>91.144708</td>\n",
       "      <td>87.185025</td>\n",
       "      <td>79.121670</td>\n",
       "    </tr>\n",
       "    <tr>\n",
       "      <th>Medium(1000-2000)</th>\n",
       "      <td>71.441798</td>\n",
       "      <td>70.724595</td>\n",
       "      <td>89.908472</td>\n",
       "      <td>86.740202</td>\n",
       "      <td>78.091997</td>\n",
       "    </tr>\n",
       "    <tr>\n",
       "      <th>Large(2000-5000)</th>\n",
       "      <td>69.926450</td>\n",
       "      <td>69.685088</td>\n",
       "      <td>84.722649</td>\n",
       "      <td>83.622133</td>\n",
       "      <td>70.969616</td>\n",
       "    </tr>\n",
       "  </tbody>\n",
       "</table>\n",
       "</div>"
      ],
      "text/plain": [
       "                   Average Maths Score  Average Reading Score  \\\n",
       "School Size                                                     \n",
       "Small(<1000)                 72.240461              71.627790   \n",
       "Medium(1000-2000)            71.441798              70.724595   \n",
       "Large(2000-5000)             69.926450              69.685088   \n",
       "\n",
       "                   % Passing Maths  % Passing Reading  % Overall Passing  \n",
       "School Size                                                               \n",
       "Small(<1000)             91.144708          87.185025          79.121670  \n",
       "Medium(1000-2000)        89.908472          86.740202          78.091997  \n",
       "Large(2000-5000)         84.722649          83.622133          70.969616  "
      ]
     },
     "execution_count": 63,
     "metadata": {},
     "output_type": "execute_result"
    }
   ],
   "source": [
    "# merge_dfx3 / dfx4 Contains all the students grades with the columns listed below as well as the school type, size, budget and budget per student information\n",
    "\n",
    "dfx4 = merge_dfx3\n",
    "\n",
    "#Bins to group by School \n",
    "# Bins are 0, 585, 630, 645, 680.   \n",
    "bins2 = [0, 1000, 2000, 5000]\n",
    "\n",
    "# Names for the four bins\n",
    "group_names2 = [\"Small(<1000)\", \"Medium(1000-2000)\", \"Large(2000-5000)\"]\n",
    "\n",
    "dfx4[\"School Size\"] = pd.cut(dfx4[\"size\"], bins2, labels=group_names2, include_lowest=True)\n",
    "\n",
    "# School_Size_df contains only the columns as below:\n",
    "\n",
    "School_Size_df = dfx4 [[\"School Size\", \"maths_score\", \"reading_score\" , \"Passed_math\", \"Passed_reading\", \"Passed_Overall\" ]]\n",
    "\n",
    "# # Creating a group \n",
    "School_Size_df = School_Size_df.groupby(\"School Size\").mean()\n",
    "\n",
    "# School_Size_df column renaming to comply with the presentation requirements\n",
    "\n",
    "School_Size_df = School_Size_df.rename(columns={\"maths_score\" : \"Average Maths Score\", \"reading_score\": \"Average Reading Score\" , \"Passed_math\" : \"% Passing Maths\", \"Passed_reading\" : \"% Passing Reading\", \"Passed_Overall\": \"% Overall Passing\"})\n",
    "\n",
    "School_Size_df[\"% Passing Maths\"] = (School_Size_df[\"% Passing Maths\"]*100)\n",
    "\n",
    "School_Size_df[\"% Passing Reading\"] = (School_Size_df[\"% Passing Reading\"]*100)\n",
    "\n",
    "School_Size_df[\"% Overall Passing\"] = (School_Size_df[\"% Overall Passing\"]*100)\n",
    "\n",
    "\n",
    "size_summary= School_Size_df\n",
    "\n",
    "size_summary"
   ]
  },
  {
   "cell_type": "markdown",
   "metadata": {},
   "source": [
    "## Scores by School Type"
   ]
  },
  {
   "cell_type": "markdown",
   "metadata": {},
   "source": [
    "* Perform the same operations as above, based on school type"
   ]
  },
  {
   "cell_type": "code",
   "execution_count": 64,
   "metadata": {},
   "outputs": [
    {
     "data": {
      "text/html": [
       "<div>\n",
       "<style scoped>\n",
       "    .dataframe tbody tr th:only-of-type {\n",
       "        vertical-align: middle;\n",
       "    }\n",
       "\n",
       "    .dataframe tbody tr th {\n",
       "        vertical-align: top;\n",
       "    }\n",
       "\n",
       "    .dataframe thead th {\n",
       "        text-align: right;\n",
       "    }\n",
       "</style>\n",
       "<table border=\"1\" class=\"dataframe\">\n",
       "  <thead>\n",
       "    <tr style=\"text-align: right;\">\n",
       "      <th></th>\n",
       "      <th>Average Maths Score</th>\n",
       "      <th>Average Reading Score</th>\n",
       "      <th>% Passing Maths</th>\n",
       "      <th>% Passing Reading</th>\n",
       "      <th>% Overall Passing</th>\n",
       "    </tr>\n",
       "    <tr>\n",
       "      <th>School Type</th>\n",
       "      <th></th>\n",
       "      <th></th>\n",
       "      <th></th>\n",
       "      <th></th>\n",
       "      <th></th>\n",
       "    </tr>\n",
       "  </thead>\n",
       "  <tbody>\n",
       "    <tr>\n",
       "      <th>Government</th>\n",
       "      <td>69.990399</td>\n",
       "      <td>69.753485</td>\n",
       "      <td>84.886566</td>\n",
       "      <td>83.818950</td>\n",
       "      <td>71.267052</td>\n",
       "    </tr>\n",
       "    <tr>\n",
       "      <th>Independent</th>\n",
       "      <td>71.107594</td>\n",
       "      <td>70.481548</td>\n",
       "      <td>88.715762</td>\n",
       "      <td>85.771691</td>\n",
       "      <td>76.217812</td>\n",
       "    </tr>\n",
       "  </tbody>\n",
       "</table>\n",
       "</div>"
      ],
      "text/plain": [
       "             Average Maths Score  Average Reading Score  % Passing Maths  \\\n",
       "School Type                                                                \n",
       "Government             69.990399              69.753485        84.886566   \n",
       "Independent            71.107594              70.481548        88.715762   \n",
       "\n",
       "             % Passing Reading  % Overall Passing  \n",
       "School Type                                        \n",
       "Government           83.818950          71.267052  \n",
       "Independent          85.771691          76.217812  "
      ]
     },
     "execution_count": 64,
     "metadata": {},
     "output_type": "execute_result"
    }
   ],
   "source": [
    "# Creating a group based \n",
    "School_Type_df = dfx4.groupby(\"type\").mean()\n",
    "\n",
    "# School_Type_df contains only the columns as below:\n",
    "School_Type_df = dfx4 [[\"type\", \"maths_score\", \"reading_score\" , \"Passed_math\", \"Passed_reading\", \"Passed_Overall\" ]]\n",
    "\n",
    "# School_Type_df column renaming to comply with the presentation requirements\n",
    "School_Type_df = School_Type_df.rename(columns={ \"type\" : \"School Type\" ,\"maths_score\" : \"Average Maths Score\", \"reading_score\": \"Average Reading Score\" , \"Passed_math\" : \"% Passing Maths\", \"Passed_reading\" : \"% Passing Reading\", \"Passed_Overall\": \"% Overall Passing\"})\n",
    "\n",
    "# # Creating a group based \n",
    "School_Type_df = School_Type_df.groupby(\"School Type\").mean()\n",
    "\n",
    "# School_Type_df mapping to comply with the presentation requirements\n",
    "\n",
    "School_Type_df[\"% Passing Maths\"] = (School_Type_df[\"% Passing Maths\"]*100)\n",
    "\n",
    "School_Type_df[\"% Passing Reading\"] = (School_Type_df[\"% Passing Reading\"]*100)\n",
    "\n",
    "School_Type_df[\"% Overall Passing\"] = (School_Type_df[\"% Overall Passing\"]*100)\n",
    "\n",
    "type_summary = School_Type_df\n",
    "\n",
    "type_summary"
   ]
  },
  {
   "cell_type": "code",
   "execution_count": null,
   "metadata": {},
   "outputs": [],
   "source": []
  }
 ],
 "metadata": {
  "anaconda-cloud": {},
  "kernel_info": {
   "name": "python3"
  },
  "kernelspec": {
   "display_name": "base",
   "language": "python",
   "name": "python3"
  },
  "language_info": {
   "codemirror_mode": {
    "name": "ipython",
    "version": 3
   },
   "file_extension": ".py",
   "mimetype": "text/x-python",
   "name": "python",
   "nbconvert_exporter": "python",
   "pygments_lexer": "ipython3",
   "version": "3.9.13"
  },
  "latex_envs": {
   "LaTeX_envs_menu_present": true,
   "autoclose": false,
   "autocomplete": true,
   "bibliofile": "biblio.bib",
   "cite_by": "apalike",
   "current_citInitial": 1,
   "eqLabelWithNumbers": true,
   "eqNumInitial": 1,
   "hotkeys": {
    "equation": "Ctrl-E",
    "itemize": "Ctrl-I"
   },
   "labels_anchors": false,
   "latex_user_defs": false,
   "report_style_numbering": false,
   "user_envs_cfg": false
  },
  "nteract": {
   "version": "0.8.4"
  },
  "vscode": {
   "interpreter": {
    "hash": "a91f4396816b03dbc86dd39de3c3fd95a2f8c8c34637948c2be4f6dba12f4e9f"
   }
  }
 },
 "nbformat": 4,
 "nbformat_minor": 1
}
